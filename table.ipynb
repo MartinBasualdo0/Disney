{
 "cells": [
  {
   "cell_type": "markdown",
   "metadata": {},
   "source": [
    "# Configuration"
   ]
  },
  {
   "cell_type": "code",
   "execution_count": 1,
   "metadata": {},
   "outputs": [],
   "source": [
    "import sqlite3\n",
    "import pandas as pd\n",
    "import matplotlib.pyplot as plt\n",
    "import seaborn as sns\n",
    "import sqlite3\n",
    "import numpy as np\n",
    "from matplotlib.ticker import MaxNLocator\n",
    "import matplotlib.ticker as mtick\n",
    "import plotly.express as px\n",
    "import plotly.graph_objects as go"
   ]
  },
  {
   "cell_type": "code",
   "execution_count": 2,
   "metadata": {},
   "outputs": [],
   "source": [
    "DISNEY_COLORS = {\n",
    "    \"blue\": \"#393e8f\",\n",
    "    \"yellow\":\"#f3cc64\",\n",
    "    \"red\":\"#b12228\",\n",
    "    \"pink\":\"#efbeb7\",\n",
    "    \"white\":\"#ffffff\",\n",
    "    \"blue_oxford\":\"#12194a\",\n",
    "    }\n",
    "\n",
    "# Customizing the default Matplotlib settings\n",
    "plt.rcParams.update({\n",
    "    \"font.family\": \"Helvetica\",             #!Set font to Helvetica\n",
    "    \"axes.titlesize\": 16,                 # Title font size\n",
    "    \"axes.labelsize\": 14,                 # Axis label font size\n",
    "    \"xtick.labelsize\": 12,                # X tick label size\n",
    "    \"ytick.labelsize\": 12,                # Y tick label size\n",
    "    \"axes.titleweight\": \"bold\",           # Title weight\n",
    "    \"axes.labelweight\": \"bold\",           # Axis label weight\n",
    "    \"axes.edgecolor\": DISNEY_COLORS['blue_oxford'],  # Set axis edge color\n",
    "    \"axes.facecolor\": DISNEY_COLORS['white'],        # Set background color of axes\n",
    "    \"grid.color\": DISNEY_COLORS['blue_oxford'],      # Gridline color    'lines.linewidth': 2.5,                     # Line width globally set to 2.5\n",
    "    'lines.linewidth': 2,                     # Line width globally set to 2.5\n",
    "    \"grid.linestyle\": \"--\",                # Gridline style\n",
    "    \"legend.fontsize\": 12,                 # Legend font size\n",
    "    \"text.color\": DISNEY_COLORS['blue_oxford'],      # General text color\n",
    "})\n",
    "\n",
    "# Setting a custom color palette for Seaborn\n",
    "sns.set_palette([DISNEY_COLORS[\"blue\"], DISNEY_COLORS[\"yellow\"], DISNEY_COLORS[\"red\"], DISNEY_COLORS[\"pink\"]])\n",
    "\n",
    "# Optional: Customize Seaborn style\n",
    "sns.set_style(\"whitegrid\", {\n",
    "    \"axes.edgecolor\": DISNEY_COLORS['blue_oxford'],\n",
    "    \"axes.facecolor\": DISNEY_COLORS['white'],\n",
    "    \"grid.color\": DISNEY_COLORS['blue_oxford'],\n",
    "    \"grid.linestyle\": '--',\n",
    "})"
   ]
  },
  {
   "cell_type": "code",
   "execution_count": 3,
   "metadata": {},
   "outputs": [],
   "source": [
    "\n",
    "# Path to your SQL schema\n",
    "sql_schema_path = '../sql_schema.sql'\n",
    "\n",
    "# Create an in-memory SQLite database\n",
    "conn = sqlite3.connect(':memory:')\n",
    "\n",
    "# Read the SQL schema and execute it\n",
    "with open(sql_schema_path, 'r') as file:\n",
    "    sql_schema = file.read()\n",
    "    conn.executescript(sql_schema)\n",
    "\n",
    "# List all tables in the database\n",
    "tables_query = \"SELECT name FROM sqlite_master WHERE type='table';\"\n",
    "tables = pd.read_sql(tables_query, conn)\n",
    "\n",
    "# Load each table into a DataFrame\n",
    "dataframes = {}\n",
    "for table in tables['name']:\n",
    "    df = pd.read_sql(f'SELECT * FROM {table}', conn)\n",
    "    dataframes[table] = df\n"
   ]
  },
  {
   "cell_type": "code",
   "execution_count": 4,
   "metadata": {},
   "outputs": [],
   "source": [
    "table_a = dataframes[\"TABLE_A\"]\n",
    "table_b = dataframes[\"TABLE_B\"]\n",
    "\n",
    "table_a.to_excel(\"../table_a.xlsx\", index=False)\n",
    "table_b.to_excel(\"../table_b.xlsx\", index=False)"
   ]
  },
  {
   "cell_type": "markdown",
   "metadata": {},
   "source": [
    "# Data Wrangling"
   ]
  },
  {
   "cell_type": "code",
   "execution_count": 5,
   "metadata": {},
   "outputs": [
    {
     "name": "stderr",
     "output_type": "stream",
     "text": [
      "C:\\Users\\marti\\AppData\\Local\\Temp\\ipykernel_18272\\1385694914.py:9: SettingWithCopyWarning: \n",
      "A value is trying to be set on a copy of a slice from a DataFrame.\n",
      "Try using .loc[row_indexer,col_indexer] = value instead\n",
      "\n",
      "See the caveats in the documentation: https://pandas.pydata.org/pandas-docs/stable/user_guide/indexing.html#returning-a-view-versus-a-copy\n",
      "  df['WATCH_LENGTH_MIN'] = df['WATCH_LENGTH_MS'] / 60000 #originally in miliseconds\n",
      "C:\\Users\\marti\\AppData\\Local\\Temp\\ipykernel_18272\\1385694914.py:10: SettingWithCopyWarning: \n",
      "A value is trying to be set on a copy of a slice from a DataFrame.\n",
      "Try using .loc[row_indexer,col_indexer] = value instead\n",
      "\n",
      "See the caveats in the documentation: https://pandas.pydata.org/pandas-docs/stable/user_guide/indexing.html#returning-a-view-versus-a-copy\n",
      "  df['RUNTIME_MIN'] = df['RUNTIME'] / 60 #originally in seconds\n",
      "C:\\Users\\marti\\AppData\\Local\\Temp\\ipykernel_18272\\1385694914.py:11: SettingWithCopyWarning: \n",
      "A value is trying to be set on a copy of a slice from a DataFrame.\n",
      "Try using .loc[row_indexer,col_indexer] = value instead\n",
      "\n",
      "See the caveats in the documentation: https://pandas.pydata.org/pandas-docs/stable/user_guide/indexing.html#returning-a-view-versus-a-copy\n",
      "  df['proportion'] = df['WATCH_LENGTH_MIN'] / df['RUNTIME_MIN']\n",
      "C:\\Users\\marti\\AppData\\Local\\Temp\\ipykernel_18272\\1385694914.py:12: SettingWithCopyWarning: \n",
      "A value is trying to be set on a copy of a slice from a DataFrame.\n",
      "Try using .loc[row_indexer,col_indexer] = value instead\n",
      "\n",
      "See the caveats in the documentation: https://pandas.pydata.org/pandas-docs/stable/user_guide/indexing.html#returning-a-view-versus-a-copy\n",
      "  df['rolling_mean'] = df.groupby('PROGRAM_TYPE')['proportion'].transform(lambda x: x.rolling(window=7, min_periods=1).mean())\n"
     ]
    }
   ],
   "source": [
    "# Convert durations to minutes\n",
    "df = dataframes[\"TABLE_A\"]\n",
    "df['title_name'] = np.where(df['PROGRAM_TYPE'] == 'movie', \n",
    "                               df['PROGRAM_FULL_TITLE'], \n",
    "                               df['SERIES_FULL_TITLE'])\n",
    "df[\"START_DATE_EST\"] = pd.to_datetime(df[\"START_DATE_EST\"])\n",
    "df = df[(df[\"START_DATE_EST\"] >= \"2021-06\") & (df[\"PROGRAM_TYPE\"].isin([\"episode\", \"movie\"]))\n",
    "        & (df[\"IS_STREAM\"] == 1)]\n",
    "df['WATCH_LENGTH_MIN'] = df['WATCH_LENGTH_MS'] / 60000 #originally in miliseconds\n",
    "df['RUNTIME_MIN'] = df['RUNTIME'] / 60 #originally in seconds\n",
    "df['proportion'] = df['WATCH_LENGTH_MIN'] / df['RUNTIME_MIN']\n",
    "df['rolling_mean'] = df.groupby('PROGRAM_TYPE')['proportion'].transform(lambda x: x.rolling(window=7, min_periods=1).mean())\n",
    "grouped = df.groupby(['START_DATE_EST', 'PROGRAM_TYPE'])['proportion'].mean().reset_index()"
   ]
  },
  {
   "cell_type": "code",
   "execution_count": 6,
   "metadata": {},
   "outputs": [
    {
     "name": "stderr",
     "output_type": "stream",
     "text": [
      "C:\\Users\\marti\\AppData\\Local\\Temp\\ipykernel_18272\\1158014904.py:4: FutureWarning: \n",
      "\n",
      "The `ci` parameter is deprecated. Use `errorbar=None` for the same effect.\n",
      "\n",
      "  sns.lineplot(data=df, x='START_DATE_EST', y='rolling_mean', hue='PROGRAM_TYPE', ci=None)\n"
     ]
    },
    {
     "data": {
      "image/png": "[encoded data removed]",
      "text/plain": [
       "<Figure size 1000x600 with 1 Axes>"
      ]
     },
     "metadata": {},
     "output_type": "display_data"
    }
   ],
   "source": [
    "plt.figure(figsize=(10, 6))\n",
    "\n",
    "# Create the line plot\n",
    "sns.lineplot(data=df, x='START_DATE_EST', y='rolling_mean', hue='PROGRAM_TYPE', ci=None)\n",
    "\n",
    "# Update the title\n",
    "plt.title('7-Day Rolling Mean of Watch Length Proportion by Program Type', fontsize=14)\n",
    "\n",
    "# Set axis labels\n",
    "plt.xlabel('', fontsize=12)\n",
    "plt.ylabel('Proportion of Watch Length to Runtime (%)', fontsize=12)\n",
    "plt.ylim(0, 1)\n",
    "\n",
    "# Set y-axis tick format to percentage\n",
    "plt.gca().yaxis.set_major_formatter(mtick.PercentFormatter(1.0, decimals=0))  # `1.0` means 100%\n",
    "\n",
    "# Move legend to the top left corner\n",
    "plt.legend(title='Program Type', loc='upper left')\n",
    "\n",
    "# Replace legend labels\n",
    "handles, labels = plt.gca().get_legend_handles_labels()\n",
    "labels = [label.replace(\"movie\", \"Movies\").replace(\"episode\", \"Series\") for label in labels]\n",
    "plt.legend(handles, labels, title='Program Type', loc='upper left')\n",
    "\n",
    "# Improve x-axis ticks\n",
    "plt.gca().xaxis.set_major_locator(MaxNLocator(nbins=10))\n",
    "\n",
    "# Grid and layout adjustments\n",
    "plt.grid(True)\n",
    "plt.tight_layout()\n",
    "\n",
    "# Show plot\n",
    "plt.show()"
   ]
  },
  {
   "cell_type": "code",
   "execution_count": 7,
   "metadata": {},
   "outputs": [
    {
     "data": {
      "image/png": "[encoded data removed]",
      "text/plain": [
       "<Figure size 1000x600 with 1 Axes>"
      ]
     },
     "metadata": {},
     "output_type": "display_data"
    }
   ],
   "source": [
    "df_filtered = df.groupby('START_DATE_EST')['WATCH_LENGTH_MIN'].sum().reset_index()\n",
    "df_filtered.set_index('START_DATE_EST', inplace=True)\n",
    "df_filtered['rolling_mean'] = df_filtered['WATCH_LENGTH_MIN'].rolling(window=7, min_periods=1).mean()\n",
    "df_filtered.reset_index(inplace=True)\n",
    "plt.figure(figsize=(10, 6))\n",
    "sns.lineplot(data=df_filtered, x='START_DATE_EST', y='WATCH_LENGTH_MIN', label='Daily Total')\n",
    "sns.lineplot(data=df_filtered, x='START_DATE_EST', y='rolling_mean', marker='', label='Weekly Rolling Mean', color='orange')\n",
    "plt.title('Daily Total Stream Duration with 7-Day Rolling Average', fontsize=14)\n",
    "plt.xlabel('', fontsize=10)\n",
    "plt.ylabel('Total Stream Duration (Minutes)', fontsize=12)\n",
    "plt.gca().xaxis.set_major_locator(MaxNLocator(nbins=10))\n",
    "plt.grid(True)\n",
    "plt.legend()\n",
    "\n",
    "# Show plot\n",
    "plt.tight_layout()\n",
    "plt.show()\n"
   ]
  },
  {
   "cell_type": "code",
   "execution_count": 8,
   "metadata": {},
   "outputs": [
    {
     "name": "stderr",
     "output_type": "stream",
     "text": [
      "C:\\Users\\marti\\AppData\\Local\\Temp\\ipykernel_18272\\2464976569.py:11: SettingWithCopyWarning: \n",
      "A value is trying to be set on a copy of a slice from a DataFrame.\n",
      "Try using .loc[row_indexer,col_indexer] = value instead\n",
      "\n",
      "See the caveats in the documentation: https://pandas.pydata.org/pandas-docs/stable/user_guide/indexing.html#returning-a-view-versus-a-copy\n",
      "  table_b[\"START_DATE\"] = pd.to_datetime(table_b[\"START_DATE\"])\n"
     ]
    },
    {
     "data": {
      "image/png": "[encoded data removed]",
      "text/plain": [
       "<Figure size 1000x600 with 1 Axes>"
      ]
     },
     "metadata": {},
     "output_type": "display_data"
    }
   ],
   "source": [
    "import matplotlib.pyplot as plt\n",
    "import seaborn as sns\n",
    "import pandas as pd\n",
    "\n",
    "# Assuming table_b is already filtered and loaded\n",
    "\n",
    "# Step 1: Filter the data for the desired date range (2020-2022)\n",
    "table_b = table_b[(table_b[\"START_DATE\"] != \"202-01-15\")\n",
    "                & (table_b[\"SUBSCRIPTION_STATE\"] == \"paid\")] #error in data\n",
    "# Convert START_DATE to datetime\n",
    "table_b[\"START_DATE\"] = pd.to_datetime(table_b[\"START_DATE\"])\n",
    "\n",
    "\n",
    "# Step 2: Group by START_DATE and count the number of subscriptions for each day\n",
    "subscriptions_per_day = table_b.groupby(\"START_DATE\").size().reset_index(name='daily_subscriptions')\n",
    "\n",
    "# Step 3: Calculate the cumulative sum of subscriptions\n",
    "subscriptions_per_day['cumulative_subscriptions'] = subscriptions_per_day['daily_subscriptions'].cumsum()\n",
    "\n",
    "# Step 4: Identify the last observation at the end of each month\n",
    "subscriptions_per_day['month'] = subscriptions_per_day['START_DATE'].dt.to_period('M')  # Extract month\n",
    "end_of_month_points = subscriptions_per_day.groupby('month').last().reset_index()  # Get last available day for each month\n",
    "\n",
    "# Step 5: Plot the cumulative subscriptions over time\n",
    "plt.figure(figsize=(10, 6))\n",
    "\n",
    "# Use the Disney blue color for the line\n",
    "sns.lineplot(data=subscriptions_per_day, x='START_DATE', y='cumulative_subscriptions', color=DISNEY_COLORS['blue'])\n",
    "\n",
    "# Add markers for the end of each month using the Disney red color\n",
    "plt.scatter(end_of_month_points['START_DATE'], end_of_month_points['cumulative_subscriptions'], \n",
    "            color=DISNEY_COLORS['yellow'], s=30, zorder=5)\n",
    "\n",
    "# Step 6: Add annotations for the cumulative subscriptions at the end of each month\n",
    "for _, row in end_of_month_points.iterrows():\n",
    "    plt.annotate(f\"{row['cumulative_subscriptions']:.0f}\",\n",
    "                 (row['START_DATE'], row['cumulative_subscriptions']),\n",
    "                 textcoords=\"offset points\", xytext=(0, 5), ha='center', \n",
    "                 fontsize=13, color=DISNEY_COLORS['blue_oxford'])\n",
    "\n",
    "# Step 7: Beautify the plot\n",
    "plt.title('Accumulated Number of Paid Subscriptions', fontsize=16, fontweight='bold')\n",
    "plt.xlabel('', fontsize=12, color=DISNEY_COLORS['blue_oxford'])\n",
    "plt.ylabel('Cumulative Subscriptions', fontsize=12,)\n",
    "plt.grid(True, linestyle='--', alpha=0.6)\n",
    "\n",
    "# Adjusting xticks (rotation if needed)\n",
    "# plt.xticks(color=DISNEY_COLORS['blue_oxford'], fontsize=12)\n",
    "# plt.yticks(color=DISNEY_COLORS['blue_oxford'], fontsize=12)\n",
    "\n",
    "# Add tight layout for better spacing\n",
    "plt.tight_layout()\n",
    "\n",
    "# Show the plot\n",
    "plt.show()\n"
   ]
  },
  {
   "cell_type": "code",
   "execution_count": 9,
   "metadata": {},
   "outputs": [
    {
     "name": "stderr",
     "output_type": "stream",
     "text": [
      "C:\\Users\\marti\\AppData\\Local\\Temp\\ipykernel_18272\\4110204119.py:2: SettingWithCopyWarning: \n",
      "A value is trying to be set on a copy of a slice from a DataFrame.\n",
      "Try using .loc[row_indexer,col_indexer] = value instead\n",
      "\n",
      "See the caveats in the documentation: https://pandas.pydata.org/pandas-docs/stable/user_guide/indexing.html#returning-a-view-versus-a-copy\n",
      "  df['WATCH_LENGTH_MIN'] = df['WATCH_LENGTH_MS'] / 60000  # Convert from milliseconds to minutes\n",
      "C:\\Users\\marti\\AppData\\Local\\Temp\\ipykernel_18272\\4110204119.py:3: SettingWithCopyWarning: \n",
      "A value is trying to be set on a copy of a slice from a DataFrame.\n",
      "Try using .loc[row_indexer,col_indexer] = value instead\n",
      "\n",
      "See the caveats in the documentation: https://pandas.pydata.org/pandas-docs/stable/user_guide/indexing.html#returning-a-view-versus-a-copy\n",
      "  df['RUNTIME_MIN'] = df['RUNTIME'] / 60  # Convert from seconds to minutes\n"
     ]
    },
    {
     "data": {
      "application/vnd.plotly.v1+json": {
       "config": {
        "plotlyServerURL": "https://plot.ly"
       },
       "data": [
        {
         "alignmentgroup": "True",
         "customdata": [
          [
           "A Bugs Life"
          ],
          [
           "Aladdin"
          ],
          [
           "Beauty and the Beast"
          ],
          [
           "Brave"
          ],
          [
           "Cars"
          ],
          [
           "Cinderella"
          ],
          [
           "Descendants"
          ],
          [
           "Descendants 3"
          ],
          [
           "Edward Scissorhands"
          ],
          [
           "Finding Dory"
          ],
          [
           "Finding Nemo"
          ],
          [
           "Frozen 2"
          ],
          [
           "Hercules"
          ],
          [
           "Ice Age: Dawn Of The Dinosaurs"
          ],
          [
           "Incredibles 2"
          ],
          [
           "Luca"
          ],
          [
           "Marvel Studios Avengers: Infinity War"
          ],
          [
           "Marvel Studios Captain America: The First Avenger"
          ],
          [
           "Marvel Studios Thor"
          ],
          [
           "Marvel Studios Thor: Ragnarok"
          ],
          [
           "Moana"
          ],
          [
           "Monsters, Inc."
          ],
          [
           "Mulan II"
          ],
          [
           "Olafs Frozen Adventure"
          ],
          [
           "Onward"
          ],
          [
           "Pirates of the Caribbean: Dead Men Tell No Tales"
          ],
          [
           "Pocahontas"
          ],
          [
           "Raya and the Last Dragon"
          ],
          [
           "Rio 2"
          ],
          [
           "Solo: A Star Wars Story"
          ],
          [
           "Soul"
          ],
          [
           "Star Wars: A New Hope (Episode IV)"
          ],
          [
           "The Adventures of Huck Finn"
          ],
          [
           "The Aristocats"
          ],
          [
           "The Chronicles of Narnia: The Lion, the Witch and the Wardrobe"
          ],
          [
           "The Jungle Book"
          ],
          [
           "The Lion King"
          ],
          [
           "Toy Story"
          ],
          [
           "Toy Story 2"
          ],
          [
           "Toy Story 3"
          ],
          [
           "Up"
          ],
          [
           "While You Were Sleeping"
          ],
          [
           "X2"
          ]
         ],
         "hovertemplate": "Type (Movies / Series)=%{x}<br>Proportion (Watch Length / Runtime)=%{y}<br>Title=%{customdata[0]}<extra></extra>",
         "legendgroup": "Movies",
         "marker": {
          "color": "#f3cc64"
         },
         "name": "Movies",
         "notched": false,
         "offsetgroup": "Movies",
         "orientation": "v",
         "showlegend": true,
         "type": "box",
         "x": [
          "Movies",
          "Movies",
          "Movies",
          "Movies",
          "Movies",
          "Movies",
          "Movies",
          "Movies",
          "Movies",
          "Movies",
          "Movies",
          "Movies",
          "Movies",
          "Movies",
          "Movies",
          "Movies",
          "Movies",
          "Movies",
          "Movies",
          "Movies",
          "Movies",
          "Movies",
          "Movies",
          "Movies",
          "Movies",
          "Movies",
          "Movies",
          "Movies",
          "Movies",
          "Movies",
          "Movies",
          "Movies",
          "Movies",
          "Movies",
          "Movies",
          "Movies",
          "Movies",
          "Movies",
          "Movies",
          "Movies",
          "Movies",
          "Movies",
          "Movies"
         ],
         "x0": " ",
         "xaxis": "x",
         "y": [
          0.48509944270289096,
          0.04797226173541963,
          0.2352347920173119,
          0.9279081253319171,
          0.9406152527849186,
          0.002826446280991735,
          0.01613338203067933,
          0.08856959706959706,
          0.8450151300236406,
          0.002832159422779591,
          0.0041385274254653265,
          0.8731672333848531,
          0.2673931580721267,
          0.7969639468690702,
          0.4692415452101316,
          0.5481042324551068,
          0.4133567767964235,
          0.6576849604221636,
          0.902364547537228,
          0.9132583659552975,
          0.9339377419854422,
          0.8957006839452845,
          0.4694376610505451,
          0.8133407904548843,
          0.5294032231808562,
          0.38400839359504135,
          0.740795603548014,
          0.2516111972704715,
          0.47853149425287356,
          0.05452661479560331,
          0.44758584686774944,
          0.9962176934384606,
          0.4000595698591985,
          0.9647405283637108,
          0.009671846642468238,
          0.20379975150134602,
          0.4266002899314707,
          0.5087526606631191,
          0.7171742016505203,
          0.5744754363283775,
          0.9946897860593514,
          0.31137419562419566,
          0.9984295792079209
         ],
         "y0": " ",
         "yaxis": "y"
        },
        {
         "alignmentgroup": "True",
         "customdata": [
          [
           "The Gifted"
          ],
          [
           "Once Upon a Time"
          ],
          [
           "Single Parents"
          ],
          [
           "Arnoldos Ristorantino"
          ],
          [
           "Jessie"
          ],
          [
           "Wizards of Waverly Place"
          ],
          [
           "Phineas and Ferb"
          ],
          [
           "Jessie"
          ],
          [
           "Liv and Maddie"
          ],
          [
           "The Bad Batch"
          ],
          [
           "Secrets Of The Zoo"
          ],
          [
           "Ultimate Spider-Man"
          ],
          [
           "High School Musical: The Musical: The Series"
          ],
          [
           "Bluey"
          ],
          [
           "Jessie"
          ],
          [
           "PJ Masks"
          ],
          [
           "The Mandalorian"
          ],
          [
           "The Mandalorian"
          ],
          [
           "The Mandalorian"
          ],
          [
           "The Mandalorian"
          ],
          [
           "The Mandalorian"
          ],
          [
           "Hannah Montana"
          ],
          [
           "Zenimation"
          ],
          [
           "Ravens Home"
          ],
          [
           "The Bad Batch"
          ],
          [
           "Jessie"
          ],
          [
           "Mickey Mouse (Shorts)"
          ],
          [
           "O11CE"
          ],
          [
           "Science of Stupid"
          ],
          [
           "O11CE"
          ],
          [
           "Violetta"
          ],
          [
           "Junior Express"
          ],
          [
           "Soy Luna"
          ],
          [
           "O11CE"
          ],
          [
           "Big Shot"
          ],
          [
           "The Suite Life of Zack & Cody"
          ],
          [
           "Ultimate Spider-Man"
          ],
          [
           "Star vs. the Forces of Evil"
          ],
          [
           "Fresh Off the Boat"
          ],
          [
           "One Strange Rock"
          ],
          [
           "Gravity Falls"
          ],
          [
           "Girl Meets World"
          ],
          [
           "Girl Meets World"
          ],
          [
           "Girl Meets World"
          ],
          [
           "Girl Meets World"
          ],
          [
           "Loki"
          ],
          [
           "Jessie"
          ],
          [
           "Vampirina"
          ],
          [
           "Mickey Mouse Roadster Racers"
          ],
          [
           "Jessie"
          ],
          [
           "Big City Greens"
          ],
          [
           "Star Wars: The Clone Wars"
          ],
          [
           "Fish Hooks"
          ],
          [
           "The Simpsons"
          ],
          [
           "Puppy Dog Pals"
          ],
          [
           "Boy Meets World"
          ],
          [
           "Amphibia"
          ],
          [
           "Star vs. the Forces of Evil"
          ],
          [
           "Cosmos: Possible Worlds"
          ],
          [
           "Loki"
          ],
          [
           "Ravens Home"
          ],
          [
           "Austin & Ally"
          ],
          [
           "Mickey Mouse Clubhouse"
          ],
          [
           "Star vs. the Forces of Evil"
          ],
          [
           "The Falcon and The Winter Soldier"
          ],
          [
           "Wizards of Waverly Place"
          ],
          [
           "Spider-Man"
          ],
          [
           "X-Men"
          ],
          [
           "T.O.T.S."
          ],
          [
           "Star Wars: The Clone Wars"
          ],
          [
           "Origins: The Journey of Humankind"
          ],
          [
           "Thats So Raven"
          ],
          [
           "Walt Disney Animation Studios: Short Circuit Experimental Films"
          ],
          [
           "Star Wars: The Clone Wars"
          ],
          [
           "Miraculous: Tales Of Ladybug & Cat Noir"
          ],
          [
           "Jessie"
          ],
          [
           "Disneys Fairy Tale Weddings"
          ],
          [
           "Mickey Mouse (Shorts)"
          ],
          [
           "Agent Carter"
          ],
          [
           "Milo Murphys Law"
          ],
          [
           "Jessie"
          ],
          [
           "The Suite Life On Deck"
          ],
          [
           "Stuck In The Middle"
          ],
          [
           "Stuck In The Middle"
          ],
          [
           "Agents of S.H.I.E.L.D."
          ],
          [
           "Phineas and Ferb"
          ],
          [
           "Agent Carter"
          ],
          [
           "Gravity Falls"
          ],
          [
           "Ravens Home"
          ],
          [
           "Loki"
          ],
          [
           "Jessie"
          ],
          [
           "Bluey"
          ],
          [
           "Spider-Man"
          ],
          [
           "Loki"
          ],
          [
           "Thats So Raven"
          ],
          [
           "Gravity Falls"
          ],
          [
           "Jessie"
          ],
          [
           "Big City Greens"
          ],
          [
           "Minnies Bow-Toons (Shorts)"
          ],
          [
           "Ugly Betty"
          ],
          [
           "Star Wars Rebels"
          ],
          [
           "Thats So Raven"
          ],
          [
           "Marvel Studios LEGENDS"
          ],
          [
           "WandaVision"
          ],
          [
           "Gravity Falls"
          ],
          [
           "Bunkd"
          ],
          [
           "The Gifted"
          ],
          [
           "The Gifted"
          ]
         ],
         "hovertemplate": "Type (Movies / Series)=%{x}<br>Proportion (Watch Length / Runtime)=%{y}<br>Title=%{customdata[0]}<extra></extra>",
         "legendgroup": "Series",
         "marker": {
          "color": "#393e8f"
         },
         "name": "Series",
         "notched": false,
         "offsetgroup": "Series",
         "orientation": "v",
         "showlegend": true,
         "type": "box",
         "x": [
          "Series",
          "Series",
          "Series",
          "Series",
          "Series",
          "Series",
          "Series",
          "Series",
          "Series",
          "Series",
          "Series",
          "Series",
          "Series",
          "Series",
          "Series",
          "Series",
          "Series",
          "Series",
          "Series",
          "Series",
          "Series",
          "Series",
          "Series",
          "Series",
          "Series",
          "Series",
          "Series",
          "Series",
          "Series",
          "Series",
          "Series",
          "Series",
          "Series",
          "Series",
          "Series",
          "Series",
          "Series",
          "Series",
          "Series",
          "Series",
          "Series",
          "Series",
          "Series",
          "Series",
          "Series",
          "Series",
          "Series",
          "Series",
          "Series",
          "Series",
          "Series",
          "Series",
          "Series",
          "Series",
          "Series",
          "Series",
          "Series",
          "Series",
          "Series",
          "Series",
          "Series",
          "Series",
          "Series",
          "Series",
          "Series",
          "Series",
          "Series",
          "Series",
          "Series",
          "Series",
          "Series",
          "Series",
          "Series",
          "Series",
          "Series",
          "Series",
          "Series",
          "Series",
          "Series",
          "Series",
          "Series",
          "Series",
          "Series",
          "Series",
          "Series",
          "Series",
          "Series",
          "Series",
          "Series",
          "Series",
          "Series",
          "Series",
          "Series",
          "Series",
          "Series",
          "Series",
          "Series",
          "Series",
          "Series",
          "Series",
          "Series",
          "Series",
          "Series",
          "Series",
          "Series",
          "Series",
          "Series",
          "Series"
         ],
         "x0": " ",
         "xaxis": "x",
         "y": [
          0.6640948047023132,
          0.7094457646607896,
          0.6283594332587621,
          0.021208031599736672,
          0.10371140939597316,
          0.6394088704088704,
          0.9440274841437634,
          0.7045941368078176,
          0.45824579124579123,
          0.664949110974862,
          0.9765304315750647,
          0.9352558635394457,
          0.8115588673621461,
          0.9183028455284554,
          0.4150810996563574,
          0.954414844267727,
          0.22809959999999999,
          0.021278368794326243,
          0.8931930014430015,
          0.012623054270088346,
          0.8834963621665318,
          0.9680175192711983,
          0.9664077669902913,
          0.9359875346260388,
          0.47885099550417465,
          0.5106962711864407,
          0.6429736070381231,
          0.7132456395348836,
          0.9998557401812689,
          0.8504290705800139,
          0.8981298421807747,
          0.7926064388961893,
          0.11277839789888379,
          0.9684427690198766,
          0.006367266187050359,
          0.9409355762347889,
          0.9275716332378223,
          0.9198296507483963,
          0.9864543396226415,
          0.2736635087719298,
          0.9146882859033753,
          0.93691523263225,
          0.28256594556873693,
          0.9745187760778861,
          0.9532430044182623,
          0.7887203164329378,
          0.5233107266435987,
          0.09805985686402081,
          0.7307291666666667,
          0.9124223728813559,
          0.9474081779053084,
          0.8928850574712645,
          0.7201913580246914,
          0.7250227106227107,
          0.9316190163934426,
          0.3853353115727003,
          0.2814087439278279,
          0.9204090587402689,
          0.3800689269746647,
          0.6897408572552104,
          0.9321242236024845,
          0.9358530838530839,
          0.8407641693811075,
          0.9064989547038327,
          0.4583403010033445,
          0.8071052264808362,
          0.16925478767693589,
          0.028991372549019605,
          0.9295991763898421,
          0.8612817176317502,
          0.9880177053824362,
          0.23815212689257392,
          0.6873094462540718,
          0.8042532299741602,
          0.46819359331476323,
          0.9088231292517007,
          0.4793048444269397,
          0.7059345794392523,
          0.8159796303281781,
          0.8961687413554632,
          0.7678329896907217,
          1.2296440149625936,
          0.9735877976190478,
          0.9807468879668049,
          0.9635258783528523,
          0.9546827393431166,
          0.9594593320235757,
          0.9452468864468864,
          0.75396632996633,
          0.9431062052505967,
          0.7129525471039776,
          0.30376315789473685,
          0.9424160642570282,
          0.7038159987763841,
          0.32548373101952277,
          0.22796024006001503,
          0.331906612133606,
          1.0005588235294116,
          0.6303541666666667,
          0.5166606595092025,
          0.23743531093638312,
          0.9752018950437317,
          0.4479728546409807,
          0.40232056737588656,
          0.9261893992932863,
          0.4757800528401585,
          0.44461906542056073,
          0.9604936329588015
         ],
         "y0": " ",
         "yaxis": "y"
        },
        {
         "alignmentgroup": "True",
         "boxpoints": "all",
         "customdata": [
          [
           "A Bugs Life"
          ],
          [
           "Aladdin"
          ],
          [
           "Beauty and the Beast"
          ],
          [
           "Brave"
          ],
          [
           "Cars"
          ],
          [
           "Cinderella"
          ],
          [
           "Descendants"
          ],
          [
           "Descendants 3"
          ],
          [
           "Edward Scissorhands"
          ],
          [
           "Finding Dory"
          ],
          [
           "Finding Nemo"
          ],
          [
           "Frozen 2"
          ],
          [
           "Hercules"
          ],
          [
           "Ice Age: Dawn Of The Dinosaurs"
          ],
          [
           "Incredibles 2"
          ],
          [
           "Luca"
          ],
          [
           "Marvel Studios Avengers: Infinity War"
          ],
          [
           "Marvel Studios Captain America: The First Avenger"
          ],
          [
           "Marvel Studios Thor"
          ],
          [
           "Marvel Studios Thor: Ragnarok"
          ],
          [
           "Moana"
          ],
          [
           "Monsters, Inc."
          ],
          [
           "Mulan II"
          ],
          [
           "Olafs Frozen Adventure"
          ],
          [
           "Onward"
          ],
          [
           "Pirates of the Caribbean: Dead Men Tell No Tales"
          ],
          [
           "Pocahontas"
          ],
          [
           "Raya and the Last Dragon"
          ],
          [
           "Rio 2"
          ],
          [
           "Solo: A Star Wars Story"
          ],
          [
           "Soul"
          ],
          [
           "Star Wars: A New Hope (Episode IV)"
          ],
          [
           "The Adventures of Huck Finn"
          ],
          [
           "The Aristocats"
          ],
          [
           "The Chronicles of Narnia: The Lion, the Witch and the Wardrobe"
          ],
          [
           "The Jungle Book"
          ],
          [
           "The Lion King"
          ],
          [
           "Toy Story"
          ],
          [
           "Toy Story 2"
          ],
          [
           "Toy Story 3"
          ],
          [
           "Up"
          ],
          [
           "While You Were Sleeping"
          ],
          [
           "X2"
          ]
         ],
         "fillcolor": "rgba(255,255,255,0)",
         "hoveron": "points",
         "hovertemplate": "Type=%{x}<br>proportion=%{y}<br>Title=%{customdata[0]}<extra></extra>",
         "legendgroup": "Movies",
         "line": {
          "color": "rgba(255,255,255,0)"
         },
         "marker": {
          "color": "#f3cc64"
         },
         "name": "Movies",
         "offsetgroup": "Movies",
         "orientation": "v",
         "pointpos": 0,
         "showlegend": true,
         "type": "box",
         "x": [
          "Movies",
          "Movies",
          "Movies",
          "Movies",
          "Movies",
          "Movies",
          "Movies",
          "Movies",
          "Movies",
          "Movies",
          "Movies",
          "Movies",
          "Movies",
          "Movies",
          "Movies",
          "Movies",
          "Movies",
          "Movies",
          "Movies",
          "Movies",
          "Movies",
          "Movies",
          "Movies",
          "Movies",
          "Movies",
          "Movies",
          "Movies",
          "Movies",
          "Movies",
          "Movies",
          "Movies",
          "Movies",
          "Movies",
          "Movies",
          "Movies",
          "Movies",
          "Movies",
          "Movies",
          "Movies",
          "Movies",
          "Movies",
          "Movies",
          "Movies"
         ],
         "x0": " ",
         "xaxis": "x",
         "y": [
          0.48509944270289096,
          0.04797226173541963,
          0.2352347920173119,
          0.9279081253319171,
          0.9406152527849186,
          0.002826446280991735,
          0.01613338203067933,
          0.08856959706959706,
          0.8450151300236406,
          0.002832159422779591,
          0.0041385274254653265,
          0.8731672333848531,
          0.2673931580721267,
          0.7969639468690702,
          0.4692415452101316,
          0.5481042324551068,
          0.4133567767964235,
          0.6576849604221636,
          0.902364547537228,
          0.9132583659552975,
          0.9339377419854422,
          0.8957006839452845,
          0.4694376610505451,
          0.8133407904548843,
          0.5294032231808562,
          0.38400839359504135,
          0.740795603548014,
          0.2516111972704715,
          0.47853149425287356,
          0.05452661479560331,
          0.44758584686774944,
          0.9962176934384606,
          0.4000595698591985,
          0.9647405283637108,
          0.009671846642468238,
          0.20379975150134602,
          0.4266002899314707,
          0.5087526606631191,
          0.7171742016505203,
          0.5744754363283775,
          0.9946897860593514,
          0.31137419562419566,
          0.9984295792079209
         ],
         "y0": " ",
         "yaxis": "y"
        },
        {
         "alignmentgroup": "True",
         "boxpoints": "all",
         "customdata": [
          [
           "The Gifted"
          ],
          [
           "Once Upon a Time"
          ],
          [
           "Single Parents"
          ],
          [
           "Arnoldos Ristorantino"
          ],
          [
           "Jessie"
          ],
          [
           "Wizards of Waverly Place"
          ],
          [
           "Phineas and Ferb"
          ],
          [
           "Jessie"
          ],
          [
           "Liv and Maddie"
          ],
          [
           "The Bad Batch"
          ],
          [
           "Secrets Of The Zoo"
          ],
          [
           "Ultimate Spider-Man"
          ],
          [
           "High School Musical: The Musical: The Series"
          ],
          [
           "Bluey"
          ],
          [
           "Jessie"
          ],
          [
           "PJ Masks"
          ],
          [
           "The Mandalorian"
          ],
          [
           "The Mandalorian"
          ],
          [
           "The Mandalorian"
          ],
          [
           "The Mandalorian"
          ],
          [
           "The Mandalorian"
          ],
          [
           "Hannah Montana"
          ],
          [
           "Zenimation"
          ],
          [
           "Ravens Home"
          ],
          [
           "The Bad Batch"
          ],
          [
           "Jessie"
          ],
          [
           "Mickey Mouse (Shorts)"
          ],
          [
           "O11CE"
          ],
          [
           "Science of Stupid"
          ],
          [
           "O11CE"
          ],
          [
           "Violetta"
          ],
          [
           "Junior Express"
          ],
          [
           "Soy Luna"
          ],
          [
           "O11CE"
          ],
          [
           "Big Shot"
          ],
          [
           "The Suite Life of Zack & Cody"
          ],
          [
           "Ultimate Spider-Man"
          ],
          [
           "Star vs. the Forces of Evil"
          ],
          [
           "Fresh Off the Boat"
          ],
          [
           "One Strange Rock"
          ],
          [
           "Gravity Falls"
          ],
          [
           "Girl Meets World"
          ],
          [
           "Girl Meets World"
          ],
          [
           "Girl Meets World"
          ],
          [
           "Girl Meets World"
          ],
          [
           "Loki"
          ],
          [
           "Jessie"
          ],
          [
           "Vampirina"
          ],
          [
           "Mickey Mouse Roadster Racers"
          ],
          [
           "Jessie"
          ],
          [
           "Big City Greens"
          ],
          [
           "Star Wars: The Clone Wars"
          ],
          [
           "Fish Hooks"
          ],
          [
           "The Simpsons"
          ],
          [
           "Puppy Dog Pals"
          ],
          [
           "Boy Meets World"
          ],
          [
           "Amphibia"
          ],
          [
           "Star vs. the Forces of Evil"
          ],
          [
           "Cosmos: Possible Worlds"
          ],
          [
           "Loki"
          ],
          [
           "Ravens Home"
          ],
          [
           "Austin & Ally"
          ],
          [
           "Mickey Mouse Clubhouse"
          ],
          [
           "Star vs. the Forces of Evil"
          ],
          [
           "The Falcon and The Winter Soldier"
          ],
          [
           "Wizards of Waverly Place"
          ],
          [
           "Spider-Man"
          ],
          [
           "X-Men"
          ],
          [
           "T.O.T.S."
          ],
          [
           "Star Wars: The Clone Wars"
          ],
          [
           "Origins: The Journey of Humankind"
          ],
          [
           "Thats So Raven"
          ],
          [
           "Walt Disney Animation Studios: Short Circuit Experimental Films"
          ],
          [
           "Star Wars: The Clone Wars"
          ],
          [
           "Miraculous: Tales Of Ladybug & Cat Noir"
          ],
          [
           "Jessie"
          ],
          [
           "Disneys Fairy Tale Weddings"
          ],
          [
           "Mickey Mouse (Shorts)"
          ],
          [
           "Agent Carter"
          ],
          [
           "Milo Murphys Law"
          ],
          [
           "Jessie"
          ],
          [
           "The Suite Life On Deck"
          ],
          [
           "Stuck In The Middle"
          ],
          [
           "Stuck In The Middle"
          ],
          [
           "Agents of S.H.I.E.L.D."
          ],
          [
           "Phineas and Ferb"
          ],
          [
           "Agent Carter"
          ],
          [
           "Gravity Falls"
          ],
          [
           "Ravens Home"
          ],
          [
           "Loki"
          ],
          [
           "Jessie"
          ],
          [
           "Bluey"
          ],
          [
           "Spider-Man"
          ],
          [
           "Loki"
          ],
          [
           "Thats So Raven"
          ],
          [
           "Gravity Falls"
          ],
          [
           "Jessie"
          ],
          [
           "Big City Greens"
          ],
          [
           "Minnies Bow-Toons (Shorts)"
          ],
          [
           "Ugly Betty"
          ],
          [
           "Star Wars Rebels"
          ],
          [
           "Thats So Raven"
          ],
          [
           "Marvel Studios LEGENDS"
          ],
          [
           "WandaVision"
          ],
          [
           "Gravity Falls"
          ],
          [
           "Bunkd"
          ],
          [
           "The Gifted"
          ],
          [
           "The Gifted"
          ]
         ],
         "fillcolor": "rgba(255,255,255,0)",
         "hoveron": "points",
         "hovertemplate": "Type=%{x}<br>proportion=%{y}<br>Title=%{customdata[0]}<extra></extra>",
         "legendgroup": "Series",
         "line": {
          "color": "rgba(255,255,255,0)"
         },
         "marker": {
          "color": "#393e8f"
         },
         "name": "Series",
         "offsetgroup": "Series",
         "orientation": "v",
         "pointpos": 0,
         "showlegend": true,
         "type": "box",
         "x": [
          "Series",
          "Series",
          "Series",
          "Series",
          "Series",
          "Series",
          "Series",
          "Series",
          "Series",
          "Series",
          "Series",
          "Series",
          "Series",
          "Series",
          "Series",
          "Series",
          "Series",
          "Series",
          "Series",
          "Series",
          "Series",
          "Series",
          "Series",
          "Series",
          "Series",
          "Series",
          "Series",
          "Series",
          "Series",
          "Series",
          "Series",
          "Series",
          "Series",
          "Series",
          "Series",
          "Series",
          "Series",
          "Series",
          "Series",
          "Series",
          "Series",
          "Series",
          "Series",
          "Series",
          "Series",
          "Series",
          "Series",
          "Series",
          "Series",
          "Series",
          "Series",
          "Series",
          "Series",
          "Series",
          "Series",
          "Series",
          "Series",
          "Series",
          "Series",
          "Series",
          "Series",
          "Series",
          "Series",
          "Series",
          "Series",
          "Series",
          "Series",
          "Series",
          "Series",
          "Series",
          "Series",
          "Series",
          "Series",
          "Series",
          "Series",
          "Series",
          "Series",
          "Series",
          "Series",
          "Series",
          "Series",
          "Series",
          "Series",
          "Series",
          "Series",
          "Series",
          "Series",
          "Series",
          "Series",
          "Series",
          "Series",
          "Series",
          "Series",
          "Series",
          "Series",
          "Series",
          "Series",
          "Series",
          "Series",
          "Series",
          "Series",
          "Series",
          "Series",
          "Series",
          "Series",
          "Series",
          "Series",
          "Series"
         ],
         "x0": " ",
         "xaxis": "x",
         "y": [
          0.6640948047023132,
          0.7094457646607896,
          0.6283594332587621,
          0.021208031599736672,
          0.10371140939597316,
          0.6394088704088704,
          0.9440274841437634,
          0.7045941368078176,
          0.45824579124579123,
          0.664949110974862,
          0.9765304315750647,
          0.9352558635394457,
          0.8115588673621461,
          0.9183028455284554,
          0.4150810996563574,
          0.954414844267727,
          0.22809959999999999,
          0.021278368794326243,
          0.8931930014430015,
          0.012623054270088346,
          0.8834963621665318,
          0.9680175192711983,
          0.9664077669902913,
          0.9359875346260388,
          0.47885099550417465,
          0.5106962711864407,
          0.6429736070381231,
          0.7132456395348836,
          0.9998557401812689,
          0.8504290705800139,
          0.8981298421807747,
          0.7926064388961893,
          0.11277839789888379,
          0.9684427690198766,
          0.006367266187050359,
          0.9409355762347889,
          0.9275716332378223,
          0.9198296507483963,
          0.9864543396226415,
          0.2736635087719298,
          0.9146882859033753,
          0.93691523263225,
          0.28256594556873693,
          0.9745187760778861,
          0.9532430044182623,
          0.7887203164329378,
          0.5233107266435987,
          0.09805985686402081,
          0.7307291666666667,
          0.9124223728813559,
          0.9474081779053084,
          0.8928850574712645,
          0.7201913580246914,
          0.7250227106227107,
          0.9316190163934426,
          0.3853353115727003,
          0.2814087439278279,
          0.9204090587402689,
          0.3800689269746647,
          0.6897408572552104,
          0.9321242236024845,
          0.9358530838530839,
          0.8407641693811075,
          0.9064989547038327,
          0.4583403010033445,
          0.8071052264808362,
          0.16925478767693589,
          0.028991372549019605,
          0.9295991763898421,
          0.8612817176317502,
          0.9880177053824362,
          0.23815212689257392,
          0.6873094462540718,
          0.8042532299741602,
          0.46819359331476323,
          0.9088231292517007,
          0.4793048444269397,
          0.7059345794392523,
          0.8159796303281781,
          0.8961687413554632,
          0.7678329896907217,
          1.2296440149625936,
          0.9735877976190478,
          0.9807468879668049,
          0.9635258783528523,
          0.9546827393431166,
          0.9594593320235757,
          0.9452468864468864,
          0.75396632996633,
          0.9431062052505967,
          0.7129525471039776,
          0.30376315789473685,
          0.9424160642570282,
          0.7038159987763841,
          0.32548373101952277,
          0.22796024006001503,
          0.331906612133606,
          1.0005588235294116,
          0.6303541666666667,
          0.5166606595092025,
          0.23743531093638312,
          0.9752018950437317,
          0.4479728546409807,
          0.40232056737588656,
          0.9261893992932863,
          0.4757800528401585,
          0.44461906542056073,
          0.9604936329588015
         ],
         "y0": " ",
         "yaxis": "y"
        }
       ],
       "layout": {
        "annotations": [
         {
          "bgcolor": "white",
          "bordercolor": "#b12228",
          "font": {
           "color": "#b12228",
           "size": 12
          },
          "showarrow": false,
          "text": "Outliers",
          "x": 1,
          "xref": "paper",
          "y": 1.05,
          "yref": "y"
         }
        ],
        "boxmode": "overlay",
        "font": {
         "family": "Helvetica"
        },
        "height": 500,
        "legend": {
         "title": {
          "text": "Type (Movies / Series)"
         },
         "tracegroupgap": 0
        },
        "margin": {
         "b": 30,
         "t": 100
        },
        "shapes": [
         {
          "fillcolor": "rgba(255, 0, 0, 0.2)",
          "line": {
           "width": 0
          },
          "type": "rect",
          "x0": -0.5,
          "x1": 1.5,
          "y0": 1,
          "y1": 1.2296440149625936
         },
         {
          "line": {
           "color": "#b12228",
           "dash": "dash",
           "width": 2
          },
          "type": "line",
          "x0": -0.5,
          "x1": 1.5,
          "y0": 1,
          "y1": 1
         }
        ],
        "showlegend": false,
        "template": {},
        "title": {
         "font": {
          "family": "Helvetica",
          "size": 14
         },
         "text": "<b>Proportion of Watch Length to Runtime by Type</b>",
         "y": 0.8
        },
        "width": 700,
        "xaxis": {
         "anchor": "y",
         "categoryarray": [
          "Movies",
          "Series"
         ],
         "categoryorder": "array",
         "domain": [
          0,
          1
         ],
         "title": {
          "text": ""
         }
        },
        "yaxis": {
         "anchor": "x",
         "domain": [
          0,
          1
         ],
         "tickformat": ".0%",
         "title": {
          "text": "Proportion (Watch Length / Runtime)"
         }
        }
       }
      }
     },
     "metadata": {},
     "output_type": "display_data"
    }
   ],
   "source": [
    "# Assuming df is already loaded and contains the necessary columns\n",
    "df['WATCH_LENGTH_MIN'] = df['WATCH_LENGTH_MS'] / 60000  # Convert from milliseconds to minutes\n",
    "df['RUNTIME_MIN'] = df['RUNTIME'] / 60  # Convert from seconds to minutes\n",
    "\n",
    "# Filter for streams only\n",
    "df = df[df[\"IS_STREAM\"] == 1]\n",
    "\n",
    "# Group by Title and Program Type, summing WATCH_LENGTH_MIN and RUNTIME_MIN\n",
    "grouped = df.groupby(['PROGRAM_TYPE', 'PROGRAM_FULL_TITLE', 'SERIES_FULL_TITLE'], as_index=False).agg(\n",
    "    total_watch_length=('WATCH_LENGTH_MIN', 'sum'),\n",
    "    total_runtime=('RUNTIME_MIN', 'sum')\n",
    ")\n",
    "\n",
    "# Calculate the proportion for each title\n",
    "grouped['proportion'] = grouped['total_watch_length'] / grouped['total_runtime']\n",
    "\n",
    "# Create a new DataFrame for box plot\n",
    "box_data = pd.DataFrame()\n",
    "\n",
    "# For movies\n",
    "movies = grouped[grouped['PROGRAM_TYPE'] == 'movie'].copy()\n",
    "movies['Title'] = movies['PROGRAM_FULL_TITLE']\n",
    "movies['Type'] = 'Movies'\n",
    "\n",
    "# For series\n",
    "series = grouped[grouped['PROGRAM_TYPE'] == 'episode'].copy()\n",
    "series['Title'] = series['SERIES_FULL_TITLE']\n",
    "series['Type'] = 'Series'\n",
    "\n",
    "# Combine both DataFrames\n",
    "box_data = pd.concat([movies[['Title', 'proportion', 'Type']],\n",
    "                      series[['Title', 'proportion', 'Type']]], ignore_index=True)\n",
    "\n",
    "# Create the box plot with hover data\n",
    "fig = px.box(\n",
    "    box_data,\n",
    "    x='Type',\n",
    "    y='proportion',\n",
    "    title='Proportion of Watch Length to Runtime by Type',\n",
    "    labels={'Type': 'Type (Movies / Series)', 'proportion': 'Proportion (Watch Length / Runtime)'},\n",
    "    hover_data=['Title']  # Add title to hover information\n",
    ")\n",
    "\n",
    "fig = px.box(\n",
    "    box_data,\n",
    "    x='Type',\n",
    "    y='proportion',\n",
    "    title='<b>Proportion of Watch Length to Runtime by Program Type',\n",
    "    labels={'Type': 'Type (Movies / Series)', 'proportion': 'Proportion (Watch Length / Runtime)'},\n",
    "    hover_data=['Title'],  # Add title to hover information\n",
    "    color='Type',  # Use 'Type' for color differentiation\n",
    "    color_discrete_map={'Movies': DISNEY_COLORS['blue'], 'Series': DISNEY_COLORS['yellow']}  # Set colors based on the dictionary\n",
    ")\n",
    "\n",
    "# Add scatter points (jitter) with hover data\n",
    "# Create the box plot with hover data\n",
    "fig = px.box(\n",
    "    box_data,\n",
    "    x='Type',\n",
    "    y='proportion',\n",
    "    title='<b>Proportion of Watch Length to Runtime by Type</b>',\n",
    "    labels={'Type': 'Type (Movies / Series)', 'proportion': 'Proportion (Watch Length / Runtime)'},\n",
    "    hover_data=['Title'],  # Add title to hover information\n",
    "    color='Type',  # Use 'Type' for color differentiation\n",
    "    color_discrete_map={'Movies': DISNEY_COLORS['yellow'], 'Series': DISNEY_COLORS['blue']}  # Set colors based on the dictionary\n",
    ")\n",
    "\n",
    "# Add scatter points (jitter) with hover data\n",
    "scatter = px.strip(box_data, x='Type', y='proportion', hover_data=['Title'], color='Type',\n",
    "                   color_discrete_map={'Movies': DISNEY_COLORS['yellow'], 'Series': DISNEY_COLORS['blue']})\n",
    "fig.add_traces(scatter.data)\n",
    "\n",
    "fig.add_shape(\n",
    "    type=\"rect\",\n",
    "    x0=-0.5, x1=1.5, y0=1, y1=box_data['proportion'].max(),\n",
    "    fillcolor=\"rgba(255, 0, 0, 0.2)\",  # Light red fill\n",
    "    line=dict(width=0)  # No border\n",
    ")\n",
    "# Add a horizontal line at y=1\n",
    "fig.add_shape(\n",
    "    type='line',\n",
    "    x0=-0.5,  # Start of line (slightly before the first category on x-axis)\n",
    "    x1=1.5,    # End of line (slightly after the second category on x-axis)\n",
    "    y0=1,\n",
    "    y1=1,\n",
    "    line=dict(color=DISNEY_COLORS[\"red\"], width=2, dash='dash'),\n",
    ")\n",
    "\n",
    "# Add annotation for the \"Bad Input Data\"\n",
    "fig.add_annotation(\n",
    "    text=\"Outliers\",\n",
    "    xref=\"paper\", yref=\"y\",\n",
    "    x=1, y=1.05,  # Adjust x and y positions for annotation\n",
    "    showarrow=False,\n",
    "    font=dict(size=12, color=DISNEY_COLORS[\"red\"]),\n",
    "    bgcolor=\"white\",\n",
    "    bordercolor=DISNEY_COLORS[\"red\"]\n",
    ")\n",
    "\n",
    "# Fill the area above the threshold with a light red color\n",
    "\n",
    "# Update layout with Helvetica font and legend position\n",
    "fig.update_layout(\n",
    "    title_font=dict(family='Helvetica', size=14),\n",
    "    font=dict(family='Helvetica'),  # Set font for all text\n",
    "    showlegend=False,\n",
    "    # title_x=0.5,  # Center title horizontally\n",
    "    title_y=0.8,  # Adjust vertical position to reduce distance from plot\n",
    ")\n",
    "\n",
    "# Update y-axis to display percentage format\n",
    "fig.update_yaxes(tickformat=\".0%\")\n",
    "fig.update_xaxes(title_text = \"\")\n",
    "fig.update_layout(template=None, margin = {\"t\":100, \"b\":30}, height = 500, width = 700)"
   ]
  },
  {
   "cell_type": "code",
   "execution_count": 10,
   "metadata": {},
   "outputs": [
    {
     "data": {
      "text/html": [
       "<div>\n",
       "<style scoped>\n",
       "    .dataframe tbody tr th:only-of-type {\n",
       "        vertical-align: middle;\n",
       "    }\n",
       "\n",
       "    .dataframe tbody tr th {\n",
       "        vertical-align: top;\n",
       "    }\n",
       "\n",
       "    .dataframe thead th {\n",
       "        text-align: right;\n",
       "    }\n",
       "</style>\n",
       "<table border=\"1\" class=\"dataframe\">\n",
       "  <thead>\n",
       "    <tr style=\"text-align: right;\">\n",
       "      <th></th>\n",
       "      <th>Title</th>\n",
       "      <th>proportion</th>\n",
       "      <th>Type</th>\n",
       "    </tr>\n",
       "  </thead>\n",
       "  <tbody>\n",
       "    <tr>\n",
       "      <th>5</th>\n",
       "      <td>Cinderella</td>\n",
       "      <td>0.002826</td>\n",
       "      <td>Movies</td>\n",
       "    </tr>\n",
       "    <tr>\n",
       "      <th>9</th>\n",
       "      <td>Finding Dory</td>\n",
       "      <td>0.002832</td>\n",
       "      <td>Movies</td>\n",
       "    </tr>\n",
       "    <tr>\n",
       "      <th>10</th>\n",
       "      <td>Finding Nemo</td>\n",
       "      <td>0.004139</td>\n",
       "      <td>Movies</td>\n",
       "    </tr>\n",
       "    <tr>\n",
       "      <th>77</th>\n",
       "      <td>Big Shot</td>\n",
       "      <td>0.006367</td>\n",
       "      <td>Series</td>\n",
       "    </tr>\n",
       "    <tr>\n",
       "      <th>34</th>\n",
       "      <td>The Chronicles of Narnia: The Lion, the Witch ...</td>\n",
       "      <td>0.009672</td>\n",
       "      <td>Movies</td>\n",
       "    </tr>\n",
       "    <tr>\n",
       "      <th>...</th>\n",
       "      <td>...</td>\n",
       "      <td>...</td>\n",
       "      <td>...</td>\n",
       "    </tr>\n",
       "    <tr>\n",
       "      <th>31</th>\n",
       "      <td>Star Wars: A New Hope (Episode IV)</td>\n",
       "      <td>0.996218</td>\n",
       "      <td>Movies</td>\n",
       "    </tr>\n",
       "    <tr>\n",
       "      <th>42</th>\n",
       "      <td>X2</td>\n",
       "      <td>0.998430</td>\n",
       "      <td>Movies</td>\n",
       "    </tr>\n",
       "    <tr>\n",
       "      <th>71</th>\n",
       "      <td>Science of Stupid</td>\n",
       "      <td>0.999856</td>\n",
       "      <td>Series</td>\n",
       "    </tr>\n",
       "    <tr>\n",
       "      <th>140</th>\n",
       "      <td>Big City Greens</td>\n",
       "      <td>1.000559</td>\n",
       "      <td>Series</td>\n",
       "    </tr>\n",
       "    <tr>\n",
       "      <th>124</th>\n",
       "      <td>The Suite Life On Deck</td>\n",
       "      <td>1.229644</td>\n",
       "      <td>Series</td>\n",
       "    </tr>\n",
       "  </tbody>\n",
       "</table>\n",
       "<p>151 rows × 3 columns</p>\n",
       "</div>"
      ],
      "text/plain": [
       "                                                 Title  proportion    Type\n",
       "5                                           Cinderella    0.002826  Movies\n",
       "9                                         Finding Dory    0.002832  Movies\n",
       "10                                        Finding Nemo    0.004139  Movies\n",
       "77                                            Big Shot    0.006367  Series\n",
       "34   The Chronicles of Narnia: The Lion, the Witch ...    0.009672  Movies\n",
       "..                                                 ...         ...     ...\n",
       "31                  Star Wars: A New Hope (Episode IV)    0.996218  Movies\n",
       "42                                                  X2    0.998430  Movies\n",
       "71                                   Science of Stupid    0.999856  Series\n",
       "140                                    Big City Greens    1.000559  Series\n",
       "124                             The Suite Life On Deck    1.229644  Series\n",
       "\n",
       "[151 rows x 3 columns]"
      ]
     },
     "execution_count": 10,
     "metadata": {},
     "output_type": "execute_result"
    }
   ],
   "source": [
    "box_data.sort_values(\"proportion\")"
   ]
  },
  {
   "cell_type": "code",
   "execution_count": 11,
   "metadata": {},
   "outputs": [
    {
     "data": {
      "text/html": [
       "<div>\n",
       "<style scoped>\n",
       "    .dataframe tbody tr th:only-of-type {\n",
       "        vertical-align: middle;\n",
       "    }\n",
       "\n",
       "    .dataframe tbody tr th {\n",
       "        vertical-align: top;\n",
       "    }\n",
       "\n",
       "    .dataframe thead th {\n",
       "        text-align: right;\n",
       "    }\n",
       "</style>\n",
       "<table border=\"1\" class=\"dataframe\">\n",
       "  <thead>\n",
       "    <tr style=\"text-align: right;\">\n",
       "      <th></th>\n",
       "      <th>Program Title</th>\n",
       "      <th>Program Type</th>\n",
       "      <th>Unique Account Count</th>\n",
       "      <th>Total Completed Streams</th>\n",
       "      <th>Total Watch Length (Min)</th>\n",
       "      <th>Total Runtime (Min)</th>\n",
       "      <th>proportion_time</th>\n",
       "      <th>proportion_completed</th>\n",
       "    </tr>\n",
       "  </thead>\n",
       "  <tbody>\n",
       "    <tr>\n",
       "      <th>36</th>\n",
       "      <td>Loki</td>\n",
       "      <td>episode</td>\n",
       "      <td>17</td>\n",
       "      <td>12</td>\n",
       "      <td>651.402767</td>\n",
       "      <td>839.766667</td>\n",
       "      <td>0.775695</td>\n",
       "      <td>0.705882</td>\n",
       "    </tr>\n",
       "    <tr>\n",
       "      <th>33</th>\n",
       "      <td>Jessie</td>\n",
       "      <td>episode</td>\n",
       "      <td>10</td>\n",
       "      <td>5</td>\n",
       "      <td>144.284067</td>\n",
       "      <td>245.000000</td>\n",
       "      <td>0.588915</td>\n",
       "      <td>0.500000</td>\n",
       "    </tr>\n",
       "    <tr>\n",
       "      <th>37</th>\n",
       "      <td>Luca</td>\n",
       "      <td>movie</td>\n",
       "      <td>7</td>\n",
       "      <td>4</td>\n",
       "      <td>387.637583</td>\n",
       "      <td>707.233333</td>\n",
       "      <td>0.548104</td>\n",
       "      <td>0.571429</td>\n",
       "    </tr>\n",
       "    <tr>\n",
       "      <th>88</th>\n",
       "      <td>The Mandalorian</td>\n",
       "      <td>episode</td>\n",
       "      <td>5</td>\n",
       "      <td>3</td>\n",
       "      <td>88.699333</td>\n",
       "      <td>215.716667</td>\n",
       "      <td>0.411184</td>\n",
       "      <td>0.600000</td>\n",
       "    </tr>\n",
       "    <tr>\n",
       "      <th>26</th>\n",
       "      <td>Girl Meets World</td>\n",
       "      <td>episode</td>\n",
       "      <td>4</td>\n",
       "      <td>4</td>\n",
       "      <td>76.179983</td>\n",
       "      <td>96.633333</td>\n",
       "      <td>0.788341</td>\n",
       "      <td>1.000000</td>\n",
       "    </tr>\n",
       "    <tr>\n",
       "      <th>...</th>\n",
       "      <td>...</td>\n",
       "      <td>...</td>\n",
       "      <td>...</td>\n",
       "      <td>...</td>\n",
       "      <td>...</td>\n",
       "      <td>...</td>\n",
       "      <td>...</td>\n",
       "      <td>...</td>\n",
       "    </tr>\n",
       "    <tr>\n",
       "      <th>83</th>\n",
       "      <td>The Chronicles of Narnia: The Lion, the Witch ...</td>\n",
       "      <td>movie</td>\n",
       "      <td>1</td>\n",
       "      <td>0</td>\n",
       "      <td>1.421117</td>\n",
       "      <td>146.933333</td>\n",
       "      <td>0.009672</td>\n",
       "      <td>0.000000</td>\n",
       "    </tr>\n",
       "    <tr>\n",
       "      <th>9</th>\n",
       "      <td>Big Shot</td>\n",
       "      <td>episode</td>\n",
       "      <td>1</td>\n",
       "      <td>0</td>\n",
       "      <td>0.295017</td>\n",
       "      <td>46.333333</td>\n",
       "      <td>0.006367</td>\n",
       "      <td>0.000000</td>\n",
       "    </tr>\n",
       "    <tr>\n",
       "      <th>22</th>\n",
       "      <td>Finding Nemo</td>\n",
       "      <td>movie</td>\n",
       "      <td>1</td>\n",
       "      <td>0</td>\n",
       "      <td>0.418750</td>\n",
       "      <td>101.183333</td>\n",
       "      <td>0.004139</td>\n",
       "      <td>0.000000</td>\n",
       "    </tr>\n",
       "    <tr>\n",
       "      <th>21</th>\n",
       "      <td>Finding Dory</td>\n",
       "      <td>movie</td>\n",
       "      <td>1</td>\n",
       "      <td>0</td>\n",
       "      <td>0.274767</td>\n",
       "      <td>97.016667</td>\n",
       "      <td>0.002832</td>\n",
       "      <td>0.000000</td>\n",
       "    </tr>\n",
       "    <tr>\n",
       "      <th>15</th>\n",
       "      <td>Cinderella</td>\n",
       "      <td>movie</td>\n",
       "      <td>1</td>\n",
       "      <td>0</td>\n",
       "      <td>0.216600</td>\n",
       "      <td>76.633333</td>\n",
       "      <td>0.002826</td>\n",
       "      <td>0.000000</td>\n",
       "    </tr>\n",
       "  </tbody>\n",
       "</table>\n",
       "<p>107 rows × 8 columns</p>\n",
       "</div>"
      ],
      "text/plain": [
       "                                        Program Title Program Type  \\\n",
       "36                                               Loki      episode   \n",
       "33                                             Jessie      episode   \n",
       "37                                               Luca        movie   \n",
       "88                                    The Mandalorian      episode   \n",
       "26                                   Girl Meets World      episode   \n",
       "..                                                ...          ...   \n",
       "83  The Chronicles of Narnia: The Lion, the Witch ...        movie   \n",
       "9                                            Big Shot      episode   \n",
       "22                                       Finding Nemo        movie   \n",
       "21                                       Finding Dory        movie   \n",
       "15                                         Cinderella        movie   \n",
       "\n",
       "    Unique Account Count  Total Completed Streams  Total Watch Length (Min)  \\\n",
       "36                    17                       12                651.402767   \n",
       "33                    10                        5                144.284067   \n",
       "37                     7                        4                387.637583   \n",
       "88                     5                        3                 88.699333   \n",
       "26                     4                        4                 76.179983   \n",
       "..                   ...                      ...                       ...   \n",
       "83                     1                        0                  1.421117   \n",
       "9                      1                        0                  0.295017   \n",
       "22                     1                        0                  0.418750   \n",
       "21                     1                        0                  0.274767   \n",
       "15                     1                        0                  0.216600   \n",
       "\n",
       "    Total Runtime (Min)  proportion_time  proportion_completed  \n",
       "36           839.766667         0.775695              0.705882  \n",
       "33           245.000000         0.588915              0.500000  \n",
       "37           707.233333         0.548104              0.571429  \n",
       "88           215.716667         0.411184              0.600000  \n",
       "26            96.633333         0.788341              1.000000  \n",
       "..                  ...              ...                   ...  \n",
       "83           146.933333         0.009672              0.000000  \n",
       "9             46.333333         0.006367              0.000000  \n",
       "22           101.183333         0.004139              0.000000  \n",
       "21            97.016667         0.002832              0.000000  \n",
       "15            76.633333         0.002826              0.000000  \n",
       "\n",
       "[107 rows x 8 columns]"
      ]
     },
     "execution_count": 11,
     "metadata": {},
     "output_type": "execute_result"
    }
   ],
   "source": [
    "df_filtered = df[df['IS_STREAM'] == 1]\n",
    "\n",
    "# Group by 'title_name' (assuming this is the program title) and 'PROGRAM_TYPE'\n",
    "result = df_filtered.groupby(['title_name', 'PROGRAM_TYPE']).agg(\n",
    "    Unique_Account_Count=('ACCOUNT_ID', 'nunique'),\n",
    "    Total_Completed_Streams=('IS_COMPLETED_STREAM', 'sum'),\n",
    "    Total_Watch_Length_Min=('WATCH_LENGTH_MIN', 'sum'),\n",
    "    Total_Runtime_Min=('RUNTIME_MIN', 'sum')\n",
    ").reset_index()\n",
    "\n",
    "# Rename the columns for clarity\n",
    "result.columns = ['Program Title', 'Program Type', 'Unique Account Count', \n",
    "                  'Total Completed Streams', 'Total Watch Length (Min)', 'Total Runtime (Min)']\n",
    "\n",
    "result[\"proportion_time\"] = result['Total Watch Length (Min)'] / result['Total Runtime (Min)']\n",
    "result[\"proportion_completed\"] = result['Total Completed Streams'] / result['Unique Account Count']\n",
    "\n",
    "result = result.sort_values([\"Unique Account Count\", \"proportion_time\"], ascending=False)\n",
    "result"
   ]
  }
 ],
 "metadata": {
  "kernelspec": {
   "display_name": "my-proj",
   "language": "python",
   "name": "python3"
  },
  "language_info": {
   "codemirror_mode": {
    "name": "ipython",
    "version": 3
   },
   "file_extension": ".py",
   "mimetype": "text/x-python",
   "name": "python",
   "nbconvert_exporter": "python",
   "pygments_lexer": "ipython3",
   "version": "3.12.4"
  }
 },
 "nbformat": 4,
 "nbformat_minor": 2
}
